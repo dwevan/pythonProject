{
 "cells": [
  {
   "cell_type": "code",
   "execution_count": 13,
   "metadata": {},
   "outputs": [],
   "source": [
    "import nltk"
   ]
  },
  {
   "cell_type": "code",
   "execution_count": 14,
   "metadata": {},
   "outputs": [
    {
     "name": "stderr",
     "output_type": "stream",
     "text": [
      "[nltk_data] Downloading package vader_lexicon to\n",
      "[nltk_data]     C:\\Users\\Devan\\AppData\\Roaming\\nltk_data...\n",
      "[nltk_data]   Package vader_lexicon is already up-to-date!\n"
     ]
    },
    {
     "data": {
      "text/plain": [
       "True"
      ]
     },
     "execution_count": 14,
     "metadata": {},
     "output_type": "execute_result"
    }
   ],
   "source": [
    "nltk.download('vader_lexicon')"
   ]
  },
  {
   "cell_type": "code",
   "execution_count": 15,
   "metadata": {},
   "outputs": [],
   "source": [
    "from nltk.sentiment.vader import SentimentIntensityAnalyzer"
   ]
  },
  {
   "cell_type": "code",
   "execution_count": 16,
   "metadata": {},
   "outputs": [],
   "source": [
    "# creating object of SentimentIntensityAnalyzer\n",
    "sid = SentimentIntensityAnalyzer()"
   ]
  },
  {
   "cell_type": "code",
   "execution_count": 17,
   "metadata": {},
   "outputs": [],
   "source": [
    "import pandas as pd"
   ]
  },
  {
   "cell_type": "code",
   "execution_count": 18,
   "metadata": {},
   "outputs": [],
   "source": [
    "# loading csv file.\n",
    "df = pd.read_csv('dwevan_tweets at_2022-01-03.csv',)"
   ]
  },
  {
   "cell_type": "code",
   "execution_count": 19,
   "metadata": {},
   "outputs": [
    {
     "data": {
      "text/html": [
       "<div>\n",
       "<style scoped>\n",
       "    .dataframe tbody tr th:only-of-type {\n",
       "        vertical-align: middle;\n",
       "    }\n",
       "\n",
       "    .dataframe tbody tr th {\n",
       "        vertical-align: top;\n",
       "    }\n",
       "\n",
       "    .dataframe thead th {\n",
       "        text-align: right;\n",
       "    }\n",
       "</style>\n",
       "<table border=\"1\" class=\"dataframe\">\n",
       "  <thead>\n",
       "    <tr style=\"text-align: right;\">\n",
       "      <th></th>\n",
       "      <th>id</th>\n",
       "      <th>label</th>\n",
       "      <th>created_at</th>\n",
       "      <th>text</th>\n",
       "    </tr>\n",
       "  </thead>\n",
       "  <tbody>\n",
       "    <tr>\n",
       "      <th>0</th>\n",
       "      <td>1460294399435362313</td>\n",
       "      <td>neg</td>\n",
       "      <td>2021-11-15 17:11:30+00:00</td>\n",
       "      <td>@henryellison30 @MisterABK @AliPlumb -_- I hat...</td>\n",
       "    </tr>\n",
       "    <tr>\n",
       "      <th>1</th>\n",
       "      <td>1393853503257432066</td>\n",
       "      <td>neg</td>\n",
       "      <td>2021-05-16 08:59:06+00:00</td>\n",
       "      <td>@EviPoimenidi @chebbes Is this a kind of thing...</td>\n",
       "    </tr>\n",
       "    <tr>\n",
       "      <th>2</th>\n",
       "      <td>1329198156849029127</td>\n",
       "      <td>pos</td>\n",
       "      <td>2020-11-18 23:01:50+00:00</td>\n",
       "      <td>@henlog1990 It’s the ‘Donald trump is a genius...</td>\n",
       "    </tr>\n",
       "    <tr>\n",
       "      <th>3</th>\n",
       "      <td>1230034860292628480</td>\n",
       "      <td>neg</td>\n",
       "      <td>2020-02-19 07:42:18+00:00</td>\n",
       "      <td>@UKANRO hi, I’m having issues getting to the a...</td>\n",
       "    </tr>\n",
       "    <tr>\n",
       "      <th>4</th>\n",
       "      <td>976075557975797761</td>\n",
       "      <td>neu</td>\n",
       "      <td>2018-03-20 12:38:42+00:00</td>\n",
       "      <td>Neater version https://t.co/1ic9GUD4Pg</td>\n",
       "    </tr>\n",
       "  </tbody>\n",
       "</table>\n",
       "</div>"
      ],
      "text/plain": [
       "                    id label                 created_at  \\\n",
       "0  1460294399435362313   neg  2021-11-15 17:11:30+00:00   \n",
       "1  1393853503257432066   neg  2021-05-16 08:59:06+00:00   \n",
       "2  1329198156849029127   pos  2020-11-18 23:01:50+00:00   \n",
       "3  1230034860292628480   neg  2020-02-19 07:42:18+00:00   \n",
       "4   976075557975797761   neu  2018-03-20 12:38:42+00:00   \n",
       "\n",
       "                                                text  \n",
       "0  @henryellison30 @MisterABK @AliPlumb -_- I hat...  \n",
       "1  @EviPoimenidi @chebbes Is this a kind of thing...  \n",
       "2  @henlog1990 It’s the ‘Donald trump is a genius...  \n",
       "3  @UKANRO hi, I’m having issues getting to the a...  \n",
       "4             Neater version https://t.co/1ic9GUD4Pg  "
      ]
     },
     "execution_count": 19,
     "metadata": {},
     "output_type": "execute_result"
    }
   ],
   "source": [
    "df.head()"
   ]
  },
  {
   "cell_type": "code",
   "execution_count": 20,
   "metadata": {},
   "outputs": [
    {
     "data": {
      "text/plain": [
       "neg    8\n",
       "pos    8\n",
       "neu    6\n",
       "Name: label, dtype: int64"
      ]
     },
     "execution_count": 20,
     "metadata": {},
     "output_type": "execute_result"
    }
   ],
   "source": [
    "df['label'].value_counts()"
   ]
  },
  {
   "cell_type": "code",
   "execution_count": 21,
   "metadata": {},
   "outputs": [],
   "source": [
    "# removing NA values from data frame\n",
    "df.dropna(inplace=True)"
   ]
  },
  {
   "cell_type": "code",
   "execution_count": 23,
   "metadata": {},
   "outputs": [
    {
     "ename": "ValueError",
     "evalue": "too many values to unpack (expected 3)",
     "output_type": "error",
     "traceback": [
      "\u001b[1;31m---------------------------------------------------------------------------\u001b[0m",
      "\u001b[1;31mValueError\u001b[0m                                Traceback (most recent call last)",
      "\u001b[1;32m~\\AppData\\Local\\Temp/ipykernel_4152/2318142575.py\u001b[0m in \u001b[0;36m<module>\u001b[1;34m\u001b[0m\n\u001b[0;32m      1\u001b[0m \u001b[1;31m# collecting blank reviews from data frame\u001b[0m\u001b[1;33m\u001b[0m\u001b[1;33m\u001b[0m\u001b[0m\n\u001b[0;32m      2\u001b[0m \u001b[0mblanks\u001b[0m \u001b[1;33m=\u001b[0m \u001b[1;33m[\u001b[0m\u001b[1;33m]\u001b[0m\u001b[1;33m\u001b[0m\u001b[1;33m\u001b[0m\u001b[0m\n\u001b[1;32m----> 3\u001b[1;33m \u001b[1;32mfor\u001b[0m \u001b[0mi\u001b[0m\u001b[1;33m,\u001b[0m\u001b[0mlb\u001b[0m\u001b[1;33m,\u001b[0m\u001b[0mrv\u001b[0m \u001b[1;32min\u001b[0m \u001b[0mdf\u001b[0m\u001b[1;33m.\u001b[0m\u001b[0mitertuples\u001b[0m\u001b[1;33m(\u001b[0m\u001b[1;33m)\u001b[0m\u001b[1;33m:\u001b[0m\u001b[1;33m\u001b[0m\u001b[1;33m\u001b[0m\u001b[0m\n\u001b[0m\u001b[0;32m      4\u001b[0m     \u001b[1;32mif\u001b[0m \u001b[0mtype\u001b[0m\u001b[1;33m(\u001b[0m\u001b[0mrv\u001b[0m\u001b[1;33m)\u001b[0m \u001b[1;33m==\u001b[0m \u001b[0mstr\u001b[0m\u001b[1;33m:\u001b[0m\u001b[1;33m\u001b[0m\u001b[1;33m\u001b[0m\u001b[0m\n\u001b[0;32m      5\u001b[0m         \u001b[1;32mif\u001b[0m \u001b[0mrv\u001b[0m\u001b[1;33m.\u001b[0m\u001b[0misspace\u001b[0m\u001b[1;33m(\u001b[0m\u001b[1;33m)\u001b[0m\u001b[1;33m:\u001b[0m\u001b[1;33m\u001b[0m\u001b[1;33m\u001b[0m\u001b[0m\n",
      "\u001b[1;31mValueError\u001b[0m: too many values to unpack (expected 3)"
     ]
    }
   ],
   "source": [
    "# collecting blank reviews from data frame\n",
    "blanks = []\n",
    "for i,lb,rv in df.itertuples():\n",
    "    if type(rv) == str:\n",
    "        if rv.isspace():\n",
    "            blanks.append(i)"
   ]
  },
  {
   "cell_type": "code",
   "execution_count": 24,
   "metadata": {},
   "outputs": [
    {
     "data": {
      "text/plain": [
       "[]"
      ]
     },
     "execution_count": 24,
     "metadata": {},
     "output_type": "execute_result"
    }
   ],
   "source": [
    "blanks"
   ]
  },
  {
   "cell_type": "code",
   "execution_count": 25,
   "metadata": {},
   "outputs": [
    {
     "data": {
      "text/plain": [
       "{'neg': 0.163, 'neu': 0.837, 'pos': 0.0, 'compound': -0.5719}"
      ]
     },
     "execution_count": 25,
     "metadata": {},
     "output_type": "execute_result"
    }
   ],
   "source": [
    "sid.polarity_scores(df.iloc[0]['text'])"
   ]
  },
  {
   "cell_type": "code",
   "execution_count": 26,
   "metadata": {},
   "outputs": [],
   "source": [
    "df['scores'] = df['text'].apply(lambda review:sid.polarity_scores(review))"
   ]
  },
  {
   "cell_type": "code",
   "execution_count": 27,
   "metadata": {},
   "outputs": [
    {
     "data": {
      "text/html": [
       "<div>\n",
       "<style scoped>\n",
       "    .dataframe tbody tr th:only-of-type {\n",
       "        vertical-align: middle;\n",
       "    }\n",
       "\n",
       "    .dataframe tbody tr th {\n",
       "        vertical-align: top;\n",
       "    }\n",
       "\n",
       "    .dataframe thead th {\n",
       "        text-align: right;\n",
       "    }\n",
       "</style>\n",
       "<table border=\"1\" class=\"dataframe\">\n",
       "  <thead>\n",
       "    <tr style=\"text-align: right;\">\n",
       "      <th></th>\n",
       "      <th>id</th>\n",
       "      <th>label</th>\n",
       "      <th>created_at</th>\n",
       "      <th>text</th>\n",
       "      <th>scores</th>\n",
       "    </tr>\n",
       "  </thead>\n",
       "  <tbody>\n",
       "    <tr>\n",
       "      <th>0</th>\n",
       "      <td>1460294399435362313</td>\n",
       "      <td>neg</td>\n",
       "      <td>2021-11-15 17:11:30+00:00</td>\n",
       "      <td>@henryellison30 @MisterABK @AliPlumb -_- I hat...</td>\n",
       "      <td>{'neg': 0.163, 'neu': 0.837, 'pos': 0.0, 'comp...</td>\n",
       "    </tr>\n",
       "    <tr>\n",
       "      <th>1</th>\n",
       "      <td>1393853503257432066</td>\n",
       "      <td>neg</td>\n",
       "      <td>2021-05-16 08:59:06+00:00</td>\n",
       "      <td>@EviPoimenidi @chebbes Is this a kind of thing...</td>\n",
       "      <td>{'neg': 0.0, 'neu': 0.94, 'pos': 0.06, 'compou...</td>\n",
       "    </tr>\n",
       "    <tr>\n",
       "      <th>2</th>\n",
       "      <td>1329198156849029127</td>\n",
       "      <td>pos</td>\n",
       "      <td>2020-11-18 23:01:50+00:00</td>\n",
       "      <td>@henlog1990 It’s the ‘Donald trump is a genius...</td>\n",
       "      <td>{'neg': 0.0, 'neu': 0.837, 'pos': 0.163, 'comp...</td>\n",
       "    </tr>\n",
       "    <tr>\n",
       "      <th>3</th>\n",
       "      <td>1230034860292628480</td>\n",
       "      <td>neg</td>\n",
       "      <td>2020-02-19 07:42:18+00:00</td>\n",
       "      <td>@UKANRO hi, I’m having issues getting to the a...</td>\n",
       "      <td>{'neg': 0.094, 'neu': 0.906, 'pos': 0.0, 'comp...</td>\n",
       "    </tr>\n",
       "    <tr>\n",
       "      <th>4</th>\n",
       "      <td>976075557975797761</td>\n",
       "      <td>neu</td>\n",
       "      <td>2018-03-20 12:38:42+00:00</td>\n",
       "      <td>Neater version https://t.co/1ic9GUD4Pg</td>\n",
       "      <td>{'neg': 0.0, 'neu': 0.5, 'pos': 0.5, 'compound...</td>\n",
       "    </tr>\n",
       "  </tbody>\n",
       "</table>\n",
       "</div>"
      ],
      "text/plain": [
       "                    id label                 created_at  \\\n",
       "0  1460294399435362313   neg  2021-11-15 17:11:30+00:00   \n",
       "1  1393853503257432066   neg  2021-05-16 08:59:06+00:00   \n",
       "2  1329198156849029127   pos  2020-11-18 23:01:50+00:00   \n",
       "3  1230034860292628480   neg  2020-02-19 07:42:18+00:00   \n",
       "4   976075557975797761   neu  2018-03-20 12:38:42+00:00   \n",
       "\n",
       "                                                text  \\\n",
       "0  @henryellison30 @MisterABK @AliPlumb -_- I hat...   \n",
       "1  @EviPoimenidi @chebbes Is this a kind of thing...   \n",
       "2  @henlog1990 It’s the ‘Donald trump is a genius...   \n",
       "3  @UKANRO hi, I’m having issues getting to the a...   \n",
       "4             Neater version https://t.co/1ic9GUD4Pg   \n",
       "\n",
       "                                              scores  \n",
       "0  {'neg': 0.163, 'neu': 0.837, 'pos': 0.0, 'comp...  \n",
       "1  {'neg': 0.0, 'neu': 0.94, 'pos': 0.06, 'compou...  \n",
       "2  {'neg': 0.0, 'neu': 0.837, 'pos': 0.163, 'comp...  \n",
       "3  {'neg': 0.094, 'neu': 0.906, 'pos': 0.0, 'comp...  \n",
       "4  {'neg': 0.0, 'neu': 0.5, 'pos': 0.5, 'compound...  "
      ]
     },
     "execution_count": 27,
     "metadata": {},
     "output_type": "execute_result"
    }
   ],
   "source": [
    "df.head()"
   ]
  },
  {
   "cell_type": "code",
   "execution_count": 28,
   "metadata": {},
   "outputs": [],
   "source": [
    "df['compound'] = df['scores'].apply(lambda d:d['compound'])"
   ]
  },
  {
   "cell_type": "code",
   "execution_count": 29,
   "metadata": {},
   "outputs": [
    {
     "data": {
      "text/html": [
       "<div>\n",
       "<style scoped>\n",
       "    .dataframe tbody tr th:only-of-type {\n",
       "        vertical-align: middle;\n",
       "    }\n",
       "\n",
       "    .dataframe tbody tr th {\n",
       "        vertical-align: top;\n",
       "    }\n",
       "\n",
       "    .dataframe thead th {\n",
       "        text-align: right;\n",
       "    }\n",
       "</style>\n",
       "<table border=\"1\" class=\"dataframe\">\n",
       "  <thead>\n",
       "    <tr style=\"text-align: right;\">\n",
       "      <th></th>\n",
       "      <th>id</th>\n",
       "      <th>label</th>\n",
       "      <th>created_at</th>\n",
       "      <th>text</th>\n",
       "      <th>scores</th>\n",
       "      <th>compound</th>\n",
       "    </tr>\n",
       "  </thead>\n",
       "  <tbody>\n",
       "    <tr>\n",
       "      <th>0</th>\n",
       "      <td>1460294399435362313</td>\n",
       "      <td>neg</td>\n",
       "      <td>2021-11-15 17:11:30+00:00</td>\n",
       "      <td>@henryellison30 @MisterABK @AliPlumb -_- I hat...</td>\n",
       "      <td>{'neg': 0.163, 'neu': 0.837, 'pos': 0.0, 'comp...</td>\n",
       "      <td>-0.5719</td>\n",
       "    </tr>\n",
       "    <tr>\n",
       "      <th>1</th>\n",
       "      <td>1393853503257432066</td>\n",
       "      <td>neg</td>\n",
       "      <td>2021-05-16 08:59:06+00:00</td>\n",
       "      <td>@EviPoimenidi @chebbes Is this a kind of thing...</td>\n",
       "      <td>{'neg': 0.0, 'neu': 0.94, 'pos': 0.06, 'compou...</td>\n",
       "      <td>0.3204</td>\n",
       "    </tr>\n",
       "    <tr>\n",
       "      <th>2</th>\n",
       "      <td>1329198156849029127</td>\n",
       "      <td>pos</td>\n",
       "      <td>2020-11-18 23:01:50+00:00</td>\n",
       "      <td>@henlog1990 It’s the ‘Donald trump is a genius...</td>\n",
       "      <td>{'neg': 0.0, 'neu': 0.837, 'pos': 0.163, 'comp...</td>\n",
       "      <td>0.5106</td>\n",
       "    </tr>\n",
       "    <tr>\n",
       "      <th>3</th>\n",
       "      <td>1230034860292628480</td>\n",
       "      <td>neg</td>\n",
       "      <td>2020-02-19 07:42:18+00:00</td>\n",
       "      <td>@UKANRO hi, I’m having issues getting to the a...</td>\n",
       "      <td>{'neg': 0.094, 'neu': 0.906, 'pos': 0.0, 'comp...</td>\n",
       "      <td>-0.3400</td>\n",
       "    </tr>\n",
       "    <tr>\n",
       "      <th>4</th>\n",
       "      <td>976075557975797761</td>\n",
       "      <td>neu</td>\n",
       "      <td>2018-03-20 12:38:42+00:00</td>\n",
       "      <td>Neater version https://t.co/1ic9GUD4Pg</td>\n",
       "      <td>{'neg': 0.0, 'neu': 0.5, 'pos': 0.5, 'compound...</td>\n",
       "      <td>0.2500</td>\n",
       "    </tr>\n",
       "  </tbody>\n",
       "</table>\n",
       "</div>"
      ],
      "text/plain": [
       "                    id label                 created_at  \\\n",
       "0  1460294399435362313   neg  2021-11-15 17:11:30+00:00   \n",
       "1  1393853503257432066   neg  2021-05-16 08:59:06+00:00   \n",
       "2  1329198156849029127   pos  2020-11-18 23:01:50+00:00   \n",
       "3  1230034860292628480   neg  2020-02-19 07:42:18+00:00   \n",
       "4   976075557975797761   neu  2018-03-20 12:38:42+00:00   \n",
       "\n",
       "                                                text  \\\n",
       "0  @henryellison30 @MisterABK @AliPlumb -_- I hat...   \n",
       "1  @EviPoimenidi @chebbes Is this a kind of thing...   \n",
       "2  @henlog1990 It’s the ‘Donald trump is a genius...   \n",
       "3  @UKANRO hi, I’m having issues getting to the a...   \n",
       "4             Neater version https://t.co/1ic9GUD4Pg   \n",
       "\n",
       "                                              scores  compound  \n",
       "0  {'neg': 0.163, 'neu': 0.837, 'pos': 0.0, 'comp...   -0.5719  \n",
       "1  {'neg': 0.0, 'neu': 0.94, 'pos': 0.06, 'compou...    0.3204  \n",
       "2  {'neg': 0.0, 'neu': 0.837, 'pos': 0.163, 'comp...    0.5106  \n",
       "3  {'neg': 0.094, 'neu': 0.906, 'pos': 0.0, 'comp...   -0.3400  \n",
       "4  {'neg': 0.0, 'neu': 0.5, 'pos': 0.5, 'compound...    0.2500  "
      ]
     },
     "execution_count": 29,
     "metadata": {},
     "output_type": "execute_result"
    }
   ],
   "source": [
    "df.head()"
   ]
  },
  {
   "cell_type": "code",
   "execution_count": 30,
   "metadata": {},
   "outputs": [],
   "source": [
    "df['score'] = df['compound'].apply(lambda score: 'pos' if score >=0 else 'neg')"
   ]
  },
  {
   "cell_type": "code",
   "execution_count": 31,
   "metadata": {},
   "outputs": [
    {
     "data": {
      "text/html": [
       "<div>\n",
       "<style scoped>\n",
       "    .dataframe tbody tr th:only-of-type {\n",
       "        vertical-align: middle;\n",
       "    }\n",
       "\n",
       "    .dataframe tbody tr th {\n",
       "        vertical-align: top;\n",
       "    }\n",
       "\n",
       "    .dataframe thead th {\n",
       "        text-align: right;\n",
       "    }\n",
       "</style>\n",
       "<table border=\"1\" class=\"dataframe\">\n",
       "  <thead>\n",
       "    <tr style=\"text-align: right;\">\n",
       "      <th></th>\n",
       "      <th>id</th>\n",
       "      <th>label</th>\n",
       "      <th>created_at</th>\n",
       "      <th>text</th>\n",
       "      <th>scores</th>\n",
       "      <th>compound</th>\n",
       "      <th>score</th>\n",
       "    </tr>\n",
       "  </thead>\n",
       "  <tbody>\n",
       "    <tr>\n",
       "      <th>0</th>\n",
       "      <td>1460294399435362313</td>\n",
       "      <td>neg</td>\n",
       "      <td>2021-11-15 17:11:30+00:00</td>\n",
       "      <td>@henryellison30 @MisterABK @AliPlumb -_- I hat...</td>\n",
       "      <td>{'neg': 0.163, 'neu': 0.837, 'pos': 0.0, 'comp...</td>\n",
       "      <td>-0.5719</td>\n",
       "      <td>neg</td>\n",
       "    </tr>\n",
       "    <tr>\n",
       "      <th>1</th>\n",
       "      <td>1393853503257432066</td>\n",
       "      <td>neg</td>\n",
       "      <td>2021-05-16 08:59:06+00:00</td>\n",
       "      <td>@EviPoimenidi @chebbes Is this a kind of thing...</td>\n",
       "      <td>{'neg': 0.0, 'neu': 0.94, 'pos': 0.06, 'compou...</td>\n",
       "      <td>0.3204</td>\n",
       "      <td>pos</td>\n",
       "    </tr>\n",
       "    <tr>\n",
       "      <th>2</th>\n",
       "      <td>1329198156849029127</td>\n",
       "      <td>pos</td>\n",
       "      <td>2020-11-18 23:01:50+00:00</td>\n",
       "      <td>@henlog1990 It’s the ‘Donald trump is a genius...</td>\n",
       "      <td>{'neg': 0.0, 'neu': 0.837, 'pos': 0.163, 'comp...</td>\n",
       "      <td>0.5106</td>\n",
       "      <td>pos</td>\n",
       "    </tr>\n",
       "    <tr>\n",
       "      <th>3</th>\n",
       "      <td>1230034860292628480</td>\n",
       "      <td>neg</td>\n",
       "      <td>2020-02-19 07:42:18+00:00</td>\n",
       "      <td>@UKANRO hi, I’m having issues getting to the a...</td>\n",
       "      <td>{'neg': 0.094, 'neu': 0.906, 'pos': 0.0, 'comp...</td>\n",
       "      <td>-0.3400</td>\n",
       "      <td>neg</td>\n",
       "    </tr>\n",
       "    <tr>\n",
       "      <th>4</th>\n",
       "      <td>976075557975797761</td>\n",
       "      <td>neu</td>\n",
       "      <td>2018-03-20 12:38:42+00:00</td>\n",
       "      <td>Neater version https://t.co/1ic9GUD4Pg</td>\n",
       "      <td>{'neg': 0.0, 'neu': 0.5, 'pos': 0.5, 'compound...</td>\n",
       "      <td>0.2500</td>\n",
       "      <td>pos</td>\n",
       "    </tr>\n",
       "  </tbody>\n",
       "</table>\n",
       "</div>"
      ],
      "text/plain": [
       "                    id label                 created_at  \\\n",
       "0  1460294399435362313   neg  2021-11-15 17:11:30+00:00   \n",
       "1  1393853503257432066   neg  2021-05-16 08:59:06+00:00   \n",
       "2  1329198156849029127   pos  2020-11-18 23:01:50+00:00   \n",
       "3  1230034860292628480   neg  2020-02-19 07:42:18+00:00   \n",
       "4   976075557975797761   neu  2018-03-20 12:38:42+00:00   \n",
       "\n",
       "                                                text  \\\n",
       "0  @henryellison30 @MisterABK @AliPlumb -_- I hat...   \n",
       "1  @EviPoimenidi @chebbes Is this a kind of thing...   \n",
       "2  @henlog1990 It’s the ‘Donald trump is a genius...   \n",
       "3  @UKANRO hi, I’m having issues getting to the a...   \n",
       "4             Neater version https://t.co/1ic9GUD4Pg   \n",
       "\n",
       "                                              scores  compound score  \n",
       "0  {'neg': 0.163, 'neu': 0.837, 'pos': 0.0, 'comp...   -0.5719   neg  \n",
       "1  {'neg': 0.0, 'neu': 0.94, 'pos': 0.06, 'compou...    0.3204   pos  \n",
       "2  {'neg': 0.0, 'neu': 0.837, 'pos': 0.163, 'comp...    0.5106   pos  \n",
       "3  {'neg': 0.094, 'neu': 0.906, 'pos': 0.0, 'comp...   -0.3400   neg  \n",
       "4  {'neg': 0.0, 'neu': 0.5, 'pos': 0.5, 'compound...    0.2500   pos  "
      ]
     },
     "execution_count": 31,
     "metadata": {},
     "output_type": "execute_result"
    }
   ],
   "source": [
    "df.head()"
   ]
  },
  {
   "cell_type": "code",
   "execution_count": 32,
   "metadata": {},
   "outputs": [],
   "source": [
    "from sklearn.metrics import accuracy_score,classification_report,confusion_matrix"
   ]
  },
  {
   "cell_type": "code",
   "execution_count": 33,
   "metadata": {},
   "outputs": [
    {
     "data": {
      "text/plain": [
       "0.5909090909090909"
      ]
     },
     "execution_count": 33,
     "metadata": {},
     "output_type": "execute_result"
    }
   ],
   "source": [
    "accuracy_score(df['label'],df['score'])"
   ]
  },
  {
   "cell_type": "code",
   "execution_count": 35,
   "metadata": {},
   "outputs": [
    {
     "name": "stdout",
     "output_type": "stream",
     "text": [
      "              precision    recall  f1-score   support\n",
      "\n",
      "         neg       1.00      0.62      0.77         8\n",
      "         neu       0.00      0.00      0.00         6\n",
      "         pos       0.47      1.00      0.64         8\n",
      "\n",
      "    accuracy                           0.59        22\n",
      "   macro avg       0.49      0.54      0.47        22\n",
      "weighted avg       0.53      0.59      0.51        22\n",
      "\n"
     ]
    },
    {
     "name": "stderr",
     "output_type": "stream",
     "text": [
      "C:\\Users\\Devan\\AppData\\Local\\Packages\\PythonSoftwareFoundation.Python.3.9_qbz5n2kfra8p0\\LocalCache\\local-packages\\Python39\\site-packages\\sklearn\\metrics\\_classification.py:1318: UndefinedMetricWarning: Precision and F-score are ill-defined and being set to 0.0 in labels with no predicted samples. Use `zero_division` parameter to control this behavior.\n",
      "  _warn_prf(average, modifier, msg_start, len(result))\n",
      "C:\\Users\\Devan\\AppData\\Local\\Packages\\PythonSoftwareFoundation.Python.3.9_qbz5n2kfra8p0\\LocalCache\\local-packages\\Python39\\site-packages\\sklearn\\metrics\\_classification.py:1318: UndefinedMetricWarning: Precision and F-score are ill-defined and being set to 0.0 in labels with no predicted samples. Use `zero_division` parameter to control this behavior.\n",
      "  _warn_prf(average, modifier, msg_start, len(result))\n",
      "C:\\Users\\Devan\\AppData\\Local\\Packages\\PythonSoftwareFoundation.Python.3.9_qbz5n2kfra8p0\\LocalCache\\local-packages\\Python39\\site-packages\\sklearn\\metrics\\_classification.py:1318: UndefinedMetricWarning: Precision and F-score are ill-defined and being set to 0.0 in labels with no predicted samples. Use `zero_division` parameter to control this behavior.\n",
      "  _warn_prf(average, modifier, msg_start, len(result))\n"
     ]
    }
   ],
   "source": [
    "print(classification_report(df['label'],df['score']))"
   ]
  },
  {
   "cell_type": "code",
   "execution_count": 36,
   "metadata": {},
   "outputs": [
    {
     "name": "stdout",
     "output_type": "stream",
     "text": [
      "[[5 0 3]\n",
      " [0 0 6]\n",
      " [0 0 8]]\n"
     ]
    }
   ],
   "source": [
    "print(confusion_matrix(df['label'],df['score']))"
   ]
  }
 ],
 "metadata": {
  "kernelspec": {
   "display_name": "Python 3",
   "language": "python",
   "name": "python3"
  },
  "language_info": {
   "codemirror_mode": {
    "name": "ipython",
    "version": 3
   },
   "file_extension": ".py",
   "mimetype": "text/x-python",
   "name": "python",
   "nbconvert_exporter": "python",
   "pygments_lexer": "ipython3",
   "version": "3.9.9"
  }
 },
 "nbformat": 4,
 "nbformat_minor": 2
}
